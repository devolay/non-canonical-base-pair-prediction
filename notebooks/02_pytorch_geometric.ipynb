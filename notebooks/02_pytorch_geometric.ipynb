{
 "cells": [
  {
   "cell_type": "code",
   "execution_count": 10,
   "metadata": {},
   "outputs": [],
   "source": [
    "from pathlib import Path\n",
    "\n",
    "from pair_prediction.data.dataset import LinkPredictionDataset\n",
    "\n",
    "DATA_DIR = Path(\"/Users/dawid/Private/School/Master's Thesuis/non-canonical-base-pair-prediction/data/raw/\")\n",
    "IDX_DIR = DATA_DIR / 'idxs'\n",
    "MATRIX_DIR = DATA_DIR / 'matrices'"
   ]
  },
  {
   "cell_type": "code",
   "execution_count": 11,
   "metadata": {},
   "outputs": [],
   "source": [
    "dataset = LinkPredictionDataset(IDX_DIR, MATRIX_DIR)\n",
    "graph, pos_edges, neg_edges = dataset[0]"
   ]
  }
 ],
 "metadata": {
  "kernelspec": {
   "display_name": "base-pair-pred",
   "language": "python",
   "name": "base-pair-pred"
  },
  "language_info": {
   "codemirror_mode": {
    "name": "ipython",
    "version": 3
   },
   "file_extension": ".py",
   "mimetype": "text/x-python",
   "name": "python",
   "nbconvert_exporter": "python",
   "pygments_lexer": "ipython3",
   "version": "3.10.13"
  },
  "orig_nbformat": 4
 },
 "nbformat": 4,
 "nbformat_minor": 2
}
