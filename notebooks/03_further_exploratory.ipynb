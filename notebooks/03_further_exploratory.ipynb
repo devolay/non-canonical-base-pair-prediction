{
 "cells": [
  {
   "cell_type": "code",
   "execution_count": null,
   "metadata": {},
   "outputs": [],
   "source": [
    "import numpy as np\n",
    "\n",
    "from tqdm import tqdm\n",
    "from pathlib import Path\n",
    "import matplotlib.pyplot as plt\n",
    "\n",
    "from pair_prediction.data.dataset import LinkPredictionDataset\n",
    "\n",
    "DATA_DIR = Path(\"/Users/dawid/Private/School/Master's Thesuis/non-canonical-base-pair-prediction/data/\")"
   ]
  },
  {
   "cell_type": "code",
   "execution_count": null,
   "metadata": {},
   "outputs": [],
   "source": [
    "train_dataset = LinkPredictionDataset(DATA_DIR, mode=\"train\")\n",
    "validation_dataset = LinkPredictionDataset(DATA_DIR, mode=\"validation\")"
   ]
  },
  {
   "cell_type": "code",
   "execution_count": null,
   "metadata": {},
   "outputs": [],
   "source": [
    "datasets = [train_dataset, validation_dataset]\n",
    "\n",
    "for dataset in datasets:\n",
    "    non_canonical_edges_count = 0\n",
    "    multiplet_edges_count = 0\n",
    "    multiplet_examples = []\n",
    "\n",
    "    for idx, data in tqdm(enumerate(dataset)):\n",
    "        edges = data.edge_index\n",
    "        edge_types = np.array(data.edge_type)\n",
    "        canonical_edges = edges[:,edge_types == \"canonical\"]\n",
    "        non_canonical_edges = edges[:,edge_types == \"non-canonical\"]\n",
    "        non_canonical_edges_count += int(non_canonical_edges.shape[1] / 2)\n",
    "\n",
    "        nodes_with_canonical_edges = np.unique(canonical_edges.flatten())\n",
    "        nodes_with_non_canonical_edges = np.unique(non_canonical_edges.flatten())\n",
    "        nodes_with_both = np.intersect1d(nodes_with_canonical_edges, nodes_with_non_canonical_edges)\n",
    "        multiplet_edges_count += len(nodes_with_both)\n",
    "\n",
    "        if len(nodes_with_both) > 0:\n",
    "            multiplet_examples.append(idx)\n",
    "\n",
    "    print(f\"Dataset: {dataset.mode}\")\n",
    "    print(f\"Total non-canonical edges: {non_canonical_edges_count}\")\n",
    "    print(f\"Total nodes with both canonical and non-canonical edges: {multiplet_edges_count}\")\n",
    "    print(f\"Multipled edges are present in {multiplet_edges_count/non_canonical_edges_count:.2%} of non-canonical edges\")\n",
    "\n",
    "    plt.figure(figsize=(8, 6))\n",
    "    plt.pie([multiplet_edges_count, non_canonical_edges_count-multiplet_edges_count],\n",
    "            labels=['Multiplet Edges', 'Non-Multiplet Edges'],\n",
    "            autopct='%1.1f%%', startangle=140)\n",
    "    plt.title(f\"Multiplet non-canonical edges in {dataset.mode} Dataset\")\n",
    "    plt.savefig(f\"multiplet_non_canonical_edges_{dataset.mode}.png\")"
   ]
  },
  {
   "cell_type": "code",
   "execution_count": null,
   "metadata": {},
   "outputs": [],
   "source": [
    "# Check how many examples have non-canonical edges in K neighbourhood around canonical edges\n",
    "n_neighbourhood = [3, 5, 10, 15]\n",
    "\n",
    "for dataset in datasets:\n",
    "    print(f\"Dataset: {dataset.mode}\")\n",
    "    averge_coverages = []\n",
    "    average_non_canonical_edges_in_k_neighbourhood = []\n",
    "    for k in n_neighbourhood:\n",
    "        nodes_coverage = []\n",
    "        non_canonical_coverage = []\n",
    "        print(f\"Checking for non-canonical edges in {k}-neighbourhood around canonical edges...\")\n",
    "        for idx, data in tqdm(enumerate(dataset)):\n",
    "            non_canonical_nodes_in_k_neighbourhood = 0\n",
    "            edges = data.edge_index\n",
    "            edge_types = np.array(data.edge_type)\n",
    "\n",
    "            canonical_edges = edges[:,edge_types == \"canonical\"]\n",
    "            non_canonical_edges = edges[:,edge_types == \"non-canonical\"]\n",
    "\n",
    "            nodes_with_canonical_edges = np.unique(canonical_edges.flatten())\n",
    "            nodes_with_non_canonical_edges = np.unique(non_canonical_edges.flatten())\n",
    "\n",
    "            for non_canonical_edge_node in nodes_with_non_canonical_edges:\n",
    "                # Check if the nodes has index in range of k around canonical node\n",
    "                if np.any(np.abs(nodes_with_canonical_edges - non_canonical_edge_node) <= k):\n",
    "                    non_canonical_nodes_in_k_neighbourhood += 1\n",
    "\n",
    "            # Check what is total coverage of neighbourhoods of k around canonical edges in relation to total number of nodes in the data\n",
    "            canonical_neighbourhood = set()\n",
    "            for node in nodes_with_canonical_edges:\n",
    "                start = max(0, node - k)\n",
    "                end = min(data.num_nodes, node + k + 1)\n",
    "                canonical_neighbourhood.update(range(start, end))\n",
    "            \n",
    "            canonical_neighbourhood_coverage = len(canonical_neighbourhood) / data.num_nodes\n",
    "            nodes_coverage.append(canonical_neighbourhood_coverage)\n",
    "            non_canonical_coverage.append(non_canonical_nodes_in_k_neighbourhood / len(nodes_with_non_canonical_edges))\n",
    "\n",
    "        print(f\"Average coverage of non-canonical edge in {k}-neighbourhood around canonical edges: {np.mean(non_canonical_coverage):.2%}\")\n",
    "        print(f\"Average coverage of {k}-neighbourhood around canonical edges: {np.mean(nodes_coverage):.2%}\")\n",
    "        averge_coverages.append(np.mean(nodes_coverage))\n",
    "        average_non_canonical_edges_in_k_neighbourhood.append(np.mean(non_canonical_coverage))\n",
    "\n",
    "    plt.figure(figsize=(8, 6))\n",
    "    plt.plot(n_neighbourhood, averge_coverages, marker='o')\n",
    "    plt.plot(n_neighbourhood, average_non_canonical_edges_in_k_neighbourhood, marker='x')\n",
    "    plt.xticks(n_neighbourhood)\n",
    "    plt.xlabel('k Neighbourhood around canonical edge')\n",
    "    plt.ylabel('Average Coverage of k Neighbourhood')\n",
    "    plt.title(f\"Average Coverage of k Neighbourhood around Canonical Edges in {dataset.mode} Dataset\")\n",
    "    plt.grid()\n",
    "    plt.savefig(f\"{dataset.mode}_coverage_plot.png\")"
   ]
  },
  {
   "cell_type": "markdown",
   "metadata": {},
   "source": []
  }
 ],
 "metadata": {
  "kernelspec": {
   "display_name": "base-pair-pred",
   "language": "python",
   "name": "base-pair-pred"
  },
  "language_info": {
   "codemirror_mode": {
    "name": "ipython",
    "version": 3
   },
   "file_extension": ".py",
   "mimetype": "text/x-python",
   "name": "python",
   "nbconvert_exporter": "python",
   "pygments_lexer": "ipython3",
   "version": "3.10.13"
  },
  "orig_nbformat": 4
 },
 "nbformat": 4,
 "nbformat_minor": 2
}
