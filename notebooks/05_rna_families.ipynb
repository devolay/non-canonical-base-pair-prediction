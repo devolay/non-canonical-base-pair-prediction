{
 "cells": [
  {
   "cell_type": "code",
   "execution_count": null,
   "metadata": {},
   "outputs": [],
   "source": [
    "import os\n",
    "import pandas as pd\n",
    "import requests\n",
    "import matplotlib.pyplot as plt\n",
    "\n",
    "from pathlib import Path\n",
    "\n",
    "from pair_prediction.data.dataset import LinkPredictionDataset\n",
    "\n",
    "DATA_DIR = Path(\"/Users/dawid/Private/School/Master's Thesuis/non-canonical-base-pair-prediction/data/\")\n",
    "\n",
    "def read_rfam_mapping(file_path = \"Rfam.pdb\"):\n",
    "    \"\"\"\n",
    "    Read the Rfam mapping file and return a DataFrame.\n",
    "    \"\"\"\n",
    "    if not os.path.isfile(file_path):\n",
    "        raise FileNotFoundError(f\"File {file_path} does not exist.\")\n",
    "    \n",
    "    df = pd.read_csv(file_path, sep='\\t')\n",
    "    return df\n",
    "\n",
    "MAPPING = read_rfam_mapping()\n",
    "\n",
    "def get_rfam_id(pdb_id):\n",
    "    \"\"\"\n",
    "    Get the Rfam ID for a given PDB ID.\n",
    "    \"\"\"\n",
    "    pdb_id = pdb_id.lower().strip()\n",
    "    if pdb_id not in MAPPING['pdb_id'].values:\n",
    "        raise ValueError(f\"PDB ID {pdb_id} not found in mapping.\")\n",
    "    \n",
    "    rfam_id = MAPPING.loc[MAPPING['pdb_id'] == pdb_id, 'rfam_acc'].values[0]\n",
    "    return rfam_id"
   ]
  },
  {
   "cell_type": "code",
   "execution_count": null,
   "metadata": {},
   "outputs": [],
   "source": [
    "dataset = LinkPredictionDataset(DATA_DIR)\n",
    "\n",
    "families = []\n",
    "for data in dataset:\n",
    "    pdb_id = data.id[:4]\n",
    "    try:\n",
    "        rfam_id = get_rfam_id(pdb_id)\n",
    "        families.append((data.id, pdb_id, rfam_id))\n",
    "    except Exception as e:\n",
    "        print(f\"Error processing {data.id}: {e}\")\n",
    "        families.append((data.id, pdb_id, None))\n",
    "\n",
    "df = pd.DataFrame(families, columns=['id', 'pdb_id', 'rfam_id'])"
   ]
  },
  {
   "cell_type": "code",
   "execution_count": null,
   "metadata": {},
   "outputs": [],
   "source": [
    "URL = \"https://rfam.org/family/{rfam_id}?content-type=application/json\"\n",
    "\n",
    "mapping = {}\n",
    "for rfam_id in df['rfam_id'].unique():\n",
    "    if pd.isna(rfam_id):\n",
    "        continue\n",
    "    response = requests.get(URL.format(rfam_id=rfam_id))\n",
    "    response.raise_for_status()\n",
    "    data = response.json()\n",
    "    mapping[rfam_id] = data['rfam']['id']\n",
    "    print(f\"Fetched Rfam name for {rfam_id}: {mapping[rfam_id]}\")\n",
    "\n",
    "df['rfam_name'] = df['rfam_id'].map(mapping)"
   ]
  },
  {
   "cell_type": "code",
   "execution_count": null,
   "metadata": {},
   "outputs": [],
   "source": [
    "df.rfam_name = df.rfam_name.fillna('Family not found')\n",
    "rfam_counts = df.rfam_name.value_counts(ascending=True)\n",
    "\n",
    "# Use other class for minorities\n",
    "df.rfam_name = df.rfam_name.apply(lambda x: x if rfam_counts[x] > 100 else 'Other family')\n",
    "df.rfam_name = df.rfam_name.str.strip()\n",
    "\n",
    "rfam_counts = df.rfam_name.value_counts(ascending=True)\n",
    "\n",
    "plt.figure(figsize=(12, 6), dpi=500)\n",
    "plt.hist(\n",
    "    rfam_counts.index, \n",
    "    weights=rfam_counts.values, \n",
    "    bins=len(df.rfam_name.unique()) - 1, \n",
    "    color='purple', \n",
    "    edgecolor='black',\n",
    "    orientation='horizontal'\n",
    ")\n",
    "plt.title('Distribution of Rfam IDs in Dataset')\n",
    "plt.xlabel('Count')\n",
    "plt.ylabel('Rfam ID')\n",
    "plt.xscale('log')\n",
    "plt.xticks(rotation=90)\n",
    "plt.tight_layout()\n",
    "plt.show()"
   ]
  },
  {
   "cell_type": "code",
   "execution_count": null,
   "metadata": {},
   "outputs": [],
   "source": [
    "df.to_csv(DATA_DIR / 'rfam_mapping.csv', index=False)"
   ]
  }
 ],
 "metadata": {
  "kernelspec": {
   "display_name": "masters",
   "language": "python",
   "name": "python3"
  },
  "language_info": {
   "codemirror_mode": {
    "name": "ipython",
    "version": 3
   },
   "file_extension": ".py",
   "mimetype": "text/x-python",
   "name": "python",
   "nbconvert_exporter": "python",
   "pygments_lexer": "ipython3",
   "version": "3.10.16"
  },
  "orig_nbformat": 4
 },
 "nbformat": 4,
 "nbformat_minor": 2
}
